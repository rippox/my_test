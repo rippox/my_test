{
 "cells": [
  {
   "cell_type": "markdown",
   "metadata": {},
   "source": [
    "Before you turn this problem in, make sure everything runs as expected. First, **restart the kernel** (in the menubar, select Kernel$\\rightarrow$Restart) and then **run all cells** (in the menubar, select Cell$\\rightarrow$Run All).\n",
    "\n",
    "Make sure you fill in any place that says `YOUR CODE HERE` or \"YOUR ANSWER HERE\", as well as your name and collaborators below:"
   ]
  },
  {
   "cell_type": "code",
   "execution_count": 1,
   "metadata": {},
   "outputs": [],
   "source": [
    "NAME = \"Albert Jiang\"\n",
    "COLLABORATORS = \"\""
   ]
  },
  {
   "cell_type": "markdown",
   "metadata": {},
   "source": [
    "---"
   ]
  },
  {
   "cell_type": "markdown",
   "metadata": {
    "deletable": false,
    "editable": false,
    "nbgrader": {
     "checksum": "ad71f4e52e9d8a8a2e273354e4bbb8fe",
     "grade": false,
     "grade_id": "cell-52aae20f6abaae07",
     "locked": true,
     "schema_version": 1,
     "solution": false
    }
   },
   "source": [
    "# Homework 14: Sudoku\n",
    "\n",
    "Copyright Luca de Alfaro, 2019-21. \n",
    "License: [CC-BY-NC-ND](https://creativecommons.org/licenses/by-nc-nd/4.0/)."
   ]
  },
  {
   "cell_type": "markdown",
   "metadata": {
    "deletable": false,
    "editable": false,
    "nbgrader": {
     "checksum": "9956d3db36f43a89ce24559b8e3c7892",
     "grade": false,
     "grade_id": "cell-e4a664f6b6259f37",
     "locked": true,
     "schema_version": 1,
     "solution": false
    }
   },
   "source": [
    "## About This Homework\n",
    "\n",
    "The homework consists of two questions, for a total of 35                            points.\n",
    "\n",
    "The instructions for working on homework assignments are available on Canvas; as a summary:\n",
    "\n",
    "* Write your code only where indicated via \n",
    "\n",
    "        # YOUR CODE HERE\n",
    "        \n",
    "    If you write code in other places, it will be discarded during grading.\n",
    "* Do not add/remove cells.\n",
    "* The tests are implemented with assert statements: if they fail, you will see an error (a Python exception). If you see no error, you can assume that they pass.\n",
    "\n",
    "Once you are done working on it, you can download the .ipynb and\n",
    "[submit it to this Google Form](https://docs.google.com/forms/d/e/1FAIpQLSdwl7BtVu9ue2nu6gllZIkj4seA1d2uvFeSfGx82rsvCksIfw/viewform?usp=sf_link).\n",
    "\n"
   ]
  },
  {
   "cell_type": "markdown",
   "metadata": {
    "deletable": false,
    "editable": false,
    "nbgrader": {
     "checksum": "242c69b30ed9c8bc2f876409c18fdee4",
     "grade": false,
     "grade_id": "cell-900f0605b35de62e",
     "locked": true,
     "schema_version": 1,
     "solution": false
    }
   },
   "source": [
    "## Test Format\n",
    "\n",
    "There are 6 questions, but not all of them require you to write code: \n",
    "* Question 1 asks you to complete the code for propagating a single cell.\n",
    "* Question 2 asks you to write the code to propagate all cells. \n",
    "* For Question 3, you just need to copy your solution to Question 2 in another place. \n",
    "* Question 4 asks you to implement a helper function that detects elements that occur in only one of a list of sets. \n",
    "* Question 5 asks you to implement the _where can it go_ heuristic. \n",
    "* Question 6 simply checks that your code is efficient; you don't need to write any code. \n",
    "\n",
    "There are a total of 70 points. "
   ]
  },
  {
   "cell_type": "markdown",
   "metadata": {
    "deletable": false,
    "editable": false,
    "nbgrader": {
     "checksum": "c27cbed28b99b8aa403972904798d81c",
     "grade": false,
     "grade_id": "cell-4bba7c934801db1",
     "locked": true,
     "schema_version": 1,
     "solution": false
    }
   },
   "source": [
    "Let us write a [Sudoku](https://en.wikipedia.org/wiki/Sudoku) solver.  We want to get as input a Sudoku with some cells filled with values, and we want to get as output a solution, if one exists, and otherwise a notice that the input Sudoku puzzle has no solutions. \n",
    "\n",
    "You will wonder, why spend so much time on Sudoku? \n",
    "\n",
    "For two reasons. \n",
    "\n",
    "First, the way we go about solving Sudoku is prototypical of a very large number of problems in computer science.  In these problems, the solution is attained through a mix of search (we attempt to fill a square with a number and see if it works out), and constraint propagation (if we fill a square with, say, a 1, then there can be no 1's in the same row, column, and 3x3 square).\n",
    "\n",
    "Second, and related, the way we go about solving Sudoku puzzles is closely related to how [SAT solvers](https://en.wikipedia.org/wiki/Boolean_satisfiability_problem#Algorithms_for_solving_SAT) work.  So closely related, in fact, that while _we_ describe for you how a Sudoku solver works, _you_ will have to write a SAT solver as exercise. \n"
   ]
  },
  {
   "cell_type": "markdown",
   "metadata": {
    "deletable": false,
    "editable": false,
    "nbgrader": {
     "checksum": "496163a260419b914fa200f192914121",
     "grade": false,
     "grade_id": "cell-c285b4ebc76bbc97",
     "locked": true,
     "schema_version": 1,
     "solution": false
    }
   },
   "source": [
    "## Sudoku representation\n",
    "\n",
    "First, let us do some grunt work and define a representation for a Sudoku problem. \n",
    "\n",
    "One initial idea would be to represent a Sudoku problem via a $9 \\times 9$ matrix, where each entry can be either a digit from 1 to 9, or 0 to signify \"blank\".  This would work in some sense, but it would not be a very useful representation.  If you have solved Sudoku by hand (and if you have not, please go and solve a couple; it will teach you a lot about what we need to do), you will know that the following strategy works: \n",
    "\n",
    "Repeat: \n",
    "* Look at all blank spaces.  Can you find one where only one digit fits? If so, write the digit there. \n",
    "* If you cannot find any blank space as above, try to find one where only a couple or so digits can fit.  Try putting in one of those digits, and see if you can solve the puzzle with that choice.  If not, backtrack, and try another digit. \n",
    "\n",
    "Thus, it will be very useful to us to remember not only the known digits, but also, which digits can fit into any blank space. \n",
    "Hence, we represent a Sudoku problem via a $9 \\times 9$ matrix of _sets_: each set contains the digits that can fit in a given space. \n",
    "Of course, a known digit is just a set containing only one element. \n",
    "We will solve a Sudoku problem by progressively \"shrinking\" these sets of possibilities, until they all contain exactly one element. \n",
    "\n",
    "Let us write some code that enables us to define a Sudoku problem, and display it for us; this will be very useful both for our fun and for debugging. \n"
   ]
  },
  {
   "cell_type": "markdown",
   "metadata": {
    "deletable": false,
    "editable": false,
    "nbgrader": {
     "checksum": "9e5d7d22fdc7a5a7a07a27c11a52790e",
     "grade": false,
     "grade_id": "cell-151003cf8fc7620a",
     "locked": true,
     "schema_version": 1,
     "solution": false
    }
   },
   "source": [
    "First, though, let's write a tiny helper function that returns the only element from a singleton set."
   ]
  },
  {
   "cell_type": "code",
   "execution_count": 2,
   "metadata": {
    "deletable": false,
    "editable": false,
    "nbgrader": {
     "checksum": "c50389c94bd5aa15b8730458d324e27a",
     "grade": false,
     "grade_id": "cell-827ad7be0aa4e5c4",
     "locked": true,
     "schema_version": 1,
     "solution": false
    }
   },
   "outputs": [],
   "source": [
    "def getel(s):\n",
    "    \"\"\"Returns the unique element in a singleton set (or list).\"\"\"\n",
    "    assert len(s) == 1\n",
    "    return list(s)[0]\n"
   ]
  },
  {
   "cell_type": "code",
   "execution_count": 3,
   "metadata": {
    "deletable": false,
    "editable": false,
    "nbgrader": {
     "checksum": "55b54074dab77e5220faf45a5cf60dba",
     "grade": false,
     "grade_id": "cell-2263b8e9a5ec13ce",
     "locked": true,
     "schema_version": 1,
     "solution": false
    }
   },
   "outputs": [],
   "source": [
    "import json\n",
    "\n",
    "class Sudoku(object):\n",
    "\n",
    "    def __init__(self, elements):\n",
    "        \"\"\"Elements can be one of:\n",
    "        Case 1: a list of 9 strings of length 9 each.\n",
    "        Each string represents a row of the initial Sudoku puzzle,\n",
    "        with either a digit 1..9 in it, or with a blank or _ to signify\n",
    "        a blank cell.\n",
    "        Case 2: an instance of Sudoku.  In that case, we initialize an\n",
    "        object to be equal (a copy) of the one in elements.\n",
    "        Case 3: a list of list of sets, used to initialize the problem.\"\"\"\n",
    "        if isinstance(elements, Sudoku):\n",
    "            # We let self.m consist of copies of each set in elements.m\n",
    "            self.m = [[x.copy() for x in row] for row in elements.m]\n",
    "        else:\n",
    "            assert len(elements) == 9\n",
    "            for s in elements:\n",
    "                assert len(s) == 9\n",
    "            # We let self.m be our Sudoku problem, a 9x9 matrix of sets.\n",
    "            self.m = []\n",
    "            for s in elements:\n",
    "                row = []\n",
    "                for c in s:\n",
    "                    if isinstance(c, str):\n",
    "                        if c.isdigit():\n",
    "                            row.append({int(c)})\n",
    "                        else:\n",
    "                            row.append({1, 2, 3, 4, 5, 6, 7, 8, 9})\n",
    "                    else:\n",
    "                        assert isinstance(c, set)\n",
    "                        row.append(c)\n",
    "                self.m.append(row)\n",
    "\n",
    "\n",
    "    def show(self, details=False):\n",
    "        \"\"\"Prints out the Sudoku matrix.  If details=False, we print out\n",
    "        the digits only for cells that have singleton sets (where only\n",
    "        one digit can fit).  If details=True, for each cell, we display the\n",
    "        sets associated with the cell.\"\"\"\n",
    "        if details:\n",
    "            print(\"+-----------------------------+-----------------------------+-----------------------------+\")\n",
    "            for i in range(9):\n",
    "                r = '|'\n",
    "                for j in range(9):\n",
    "                    # We represent the set {2, 3, 5} via _23_5____\n",
    "                    s = ''\n",
    "                    for k in range(1, 10):\n",
    "                        s += str(k) if k in self.m[i][j] else '_'\n",
    "                    r += s\n",
    "                    r += '|' if (j + 1) % 3 == 0 else ' '\n",
    "                print(r)\n",
    "                if (i + 1) % 3 == 0:\n",
    "                    print(\"+-----------------------------+-----------------------------+-----------------------------+\")\n",
    "        else:\n",
    "            print(\"+---+---+---+\")\n",
    "            for i in range(9):\n",
    "                r = '|'\n",
    "                for j in range(9):\n",
    "                    if len(self.m[i][j]) == 1:\n",
    "                        r += str(getel(self.m[i][j]))\n",
    "                    else:\n",
    "                        r += \".\"\n",
    "                    if (j + 1) % 3 == 0:\n",
    "                        r += \"|\"\n",
    "                print(r)\n",
    "                if (i + 1) % 3 == 0:\n",
    "                    print(\"+---+---+---+\")\n",
    "\n",
    "\n",
    "    def to_string(self):\n",
    "        \"\"\"This method is useful for producing a representation that\n",
    "        can be used in testing.\"\"\"\n",
    "        as_lists = [[list(self.m[i][j]) for j in range(9)] for i in range(9)]\n",
    "        return json.dumps(as_lists)\n",
    "\n",
    "\n",
    "    @staticmethod\n",
    "    def from_string(s):\n",
    "        \"\"\"Inverse of above.\"\"\"\n",
    "        as_lists = json.loads(s)\n",
    "        as_sets = [[set(el) for el in row] for row in as_lists]\n",
    "        return Sudoku(as_sets)\n",
    "\n",
    "\n",
    "    def __eq__(self, other):\n",
    "        \"\"\"Useful for testing.\"\"\"\n",
    "        return self.m == other.m\n"
   ]
  },
  {
   "cell_type": "markdown",
   "metadata": {
    "deletable": false,
    "editable": false,
    "nbgrader": {
     "checksum": "b82ad66ac4c34a8cb00a34e3b29b535a",
     "grade": false,
     "grade_id": "cell-cb1a30c2763d5d2",
     "locked": true,
     "schema_version": 1,
     "solution": false
    }
   },
   "source": [
    "Let us input a problem (the Sudoku example found on [this Wikipedia page](https://en.wikipedia.org/wiki/Sudoku)) and check that our serialization and deserialization works."
   ]
  },
  {
   "cell_type": "code",
   "execution_count": 4,
   "metadata": {
    "deletable": false,
    "editable": false,
    "nbgrader": {
     "checksum": "d019c9b4fcd041d57ff1e843e26713d6",
     "grade": false,
     "grade_id": "cell-1f083f349fe0572b",
     "locked": true,
     "schema_version": 1,
     "solution": false
    }
   },
   "outputs": [],
   "source": [
    "# Let us ensure that nose is installed.\n",
    "try:\n",
    "    from nose.tools import assert_equal, assert_true\n",
    "    from nose.tools import assert_false, assert_almost_equal\n",
    "except:\n",
    "    !pip install nose\n",
    "    from nose.tools import assert_equal, assert_true\n",
    "    from nose.tools import assert_false, assert_almost_equal\n"
   ]
  },
  {
   "cell_type": "code",
   "execution_count": 5,
   "metadata": {
    "deletable": false,
    "editable": false,
    "nbgrader": {
     "checksum": "27b98c191045f976b457b3be6c1d6a96",
     "grade": false,
     "grade_id": "cell-abc219725ab90761",
     "locked": true,
     "schema_version": 1,
     "solution": false
    }
   },
   "outputs": [
    {
     "name": "stdout",
     "output_type": "stream",
     "text": [
      "+---+---+---+\n",
      "|53.|.7.|...|\n",
      "|6..|195|...|\n",
      "|.98|...|.6.|\n",
      "+---+---+---+\n",
      "|8..|.6.|..3|\n",
      "|4..|8.3|..1|\n",
      "|7..|.2.|..6|\n",
      "+---+---+---+\n",
      "|.6.|...|28.|\n",
      "|...|419|..5|\n",
      "|...|.8.|.79|\n",
      "+---+---+---+\n",
      "+-----------------------------+-----------------------------+-----------------------------+\n",
      "|____5____ __3______ 123456789|123456789 ______7__ 123456789|123456789 123456789 123456789|\n",
      "|_____6___ 123456789 123456789|1________ ________9 ____5____|123456789 123456789 123456789|\n",
      "|123456789 ________9 _______8_|123456789 123456789 123456789|123456789 _____6___ 123456789|\n",
      "+-----------------------------+-----------------------------+-----------------------------+\n",
      "|_______8_ 123456789 123456789|123456789 _____6___ 123456789|123456789 123456789 __3______|\n",
      "|___4_____ 123456789 123456789|_______8_ 123456789 __3______|123456789 123456789 1________|\n",
      "|______7__ 123456789 123456789|123456789 _2_______ 123456789|123456789 123456789 _____6___|\n",
      "+-----------------------------+-----------------------------+-----------------------------+\n",
      "|123456789 _____6___ 123456789|123456789 123456789 123456789|_2_______ _______8_ 123456789|\n",
      "|123456789 123456789 123456789|___4_____ 1________ ________9|123456789 123456789 ____5____|\n",
      "|123456789 123456789 123456789|123456789 _______8_ 123456789|123456789 ______7__ ________9|\n",
      "+-----------------------------+-----------------------------+-----------------------------+\n",
      "+-----------------------------+-----------------------------+-----------------------------+\n",
      "|____5____ __3______ 123456789|123456789 ______7__ 123456789|123456789 123456789 123456789|\n",
      "|_____6___ 123456789 123456789|1________ ________9 ____5____|123456789 123456789 123456789|\n",
      "|123456789 ________9 _______8_|123456789 123456789 123456789|123456789 _____6___ 123456789|\n",
      "+-----------------------------+-----------------------------+-----------------------------+\n",
      "|_______8_ 123456789 123456789|123456789 _____6___ 123456789|123456789 123456789 __3______|\n",
      "|___4_____ 123456789 123456789|_______8_ 123456789 __3______|123456789 123456789 1________|\n",
      "|______7__ 123456789 123456789|123456789 _2_______ 123456789|123456789 123456789 _____6___|\n",
      "+-----------------------------+-----------------------------+-----------------------------+\n",
      "|123456789 _____6___ 123456789|123456789 123456789 123456789|_2_______ _______8_ 123456789|\n",
      "|123456789 123456789 123456789|___4_____ 1________ ________9|123456789 123456789 ____5____|\n",
      "|123456789 123456789 123456789|123456789 _______8_ 123456789|123456789 ______7__ ________9|\n",
      "+-----------------------------+-----------------------------+-----------------------------+\n"
     ]
    }
   ],
   "source": [
    "from nose.tools import assert_equal\n",
    "\n",
    "sd = Sudoku([\n",
    "    '53__7____',\n",
    "    '6__195___',\n",
    "    '_98____6_',\n",
    "    '8___6___3',\n",
    "    '4__8_3__1',\n",
    "    '7___2___6',\n",
    "    '_6____28_',\n",
    "    '___419__5',\n",
    "    '____8__79'\n",
    "])\n",
    "sd.show()\n",
    "sd.show(details=True)\n",
    "s = sd.to_string()\n",
    "sdd = Sudoku.from_string(s)\n",
    "sdd.show(details=True)\n",
    "assert_equal(sd, sdd)\n"
   ]
  },
  {
   "cell_type": "markdown",
   "metadata": {
    "deletable": false,
    "editable": false,
    "nbgrader": {
     "checksum": "baa6de1989b3ab4080826bf41eeb615c",
     "grade": false,
     "grade_id": "cell-a7cb264a1f0dac69",
     "locked": true,
     "schema_version": 1,
     "solution": false
    }
   },
   "source": [
    "Let's test our constructor statement when passed a Sudoku instance."
   ]
  },
  {
   "cell_type": "code",
   "execution_count": 6,
   "metadata": {
    "deletable": false,
    "editable": false,
    "nbgrader": {
     "checksum": "7098be01aa745b1eef29a845fba0e40b",
     "grade": false,
     "grade_id": "cell-dfde422d5915c737",
     "locked": true,
     "schema_version": 1,
     "solution": false
    }
   },
   "outputs": [],
   "source": [
    "sd1 = Sudoku(sd)\n",
    "assert_equal(sd, sd1)\n"
   ]
  },
  {
   "cell_type": "markdown",
   "metadata": {
    "deletable": false,
    "editable": false,
    "nbgrader": {
     "checksum": "b3097e98b475306462250c74ee623b15",
     "grade": false,
     "grade_id": "cell-d7b56fa5387da0b5",
     "locked": true,
     "schema_version": 1,
     "solution": false
    }
   },
   "source": [
    "## Constraint propagation\n",
    "\n",
    "When the set in a Sudoku cell contains only one element, this means that the digit at that cell is known. \n",
    "We can then propagate the knowledge, ruling out that digit in the same row, in the same column, and in the same 3x3 cell. \n",
    "\n",
    "We first write a method that propagates the constraint from a single cell.  The method will return the list of newly-determined cells, that is, the list of cells who also now (but not before) are associated with a 1-element set.  This is useful, because we can then propagate the constraints from those cells in turn.  Further, if an empty set is ever generated, we raise the exception Unsolvable: this means that there is no solution to the proposed Sudoku puzzle. \n",
    "\n",
    "We don't want to steal all the fun from you; thus, we will give you the main pieces of the implemenetation, but we ask you to fill in the blanks.  We provide tests so you can catch any errors right away."
   ]
  },
  {
   "cell_type": "markdown",
   "metadata": {
    "deletable": false,
    "editable": false,
    "nbgrader": {
     "checksum": "c98b50917fa005145dc40c7f82d4fb5d",
     "grade": false,
     "grade_id": "cell-b0ec846f8a365d79",
     "locked": true,
     "schema_version": 1,
     "solution": false
    }
   },
   "source": [
    "## Question 1: Propagating a single cell"
   ]
  },
  {
   "cell_type": "code",
   "execution_count": 7,
   "metadata": {
    "deletable": false,
    "editable": false,
    "nbgrader": {
     "checksum": "7a884c4167806587e806224a15063749",
     "grade": false,
     "grade_id": "cell-fc9a968448c5cc79",
     "locked": true,
     "schema_version": 1,
     "solution": false
    }
   },
   "outputs": [],
   "source": [
    "class Unsolvable(Exception):\n",
    "    pass\n",
    "\n",
    "\n",
    "def sudoku_ruleout(self, i, j, x):\n",
    "    \"\"\"The input consists in a cell (i, j), and a value x.\n",
    "    The function removes x from the set self.m[i][j] at the cell, if present, and:\n",
    "    - if the result is empty, raises Unsolvable;\n",
    "    - if the cell used to be a non-singleton cell and is now a singleton\n",
    "      cell, then returns the set {(i, j)};\n",
    "    - otherwise, returns the empty set.\"\"\"\n",
    "    c = self.m[i][j]\n",
    "    n = len(c)\n",
    "    c.discard(x)\n",
    "    self.m[i][j] = c\n",
    "    if len(c) == 0:\n",
    "        raise Unsolvable()\n",
    "    return {(i, j)} if 1 == len(c) < n else set()\n",
    "\n",
    "Sudoku.ruleout = sudoku_ruleout\n"
   ]
  },
  {
   "cell_type": "markdown",
   "metadata": {
    "deletable": false,
    "editable": false,
    "nbgrader": {
     "checksum": "2140d3f1ccf2fcf45b6b99d653070802",
     "grade": false,
     "grade_id": "cell-644ba08a6176522a",
     "locked": true,
     "schema_version": 1,
     "solution": false
    }
   },
   "source": [
    "The method `propagate_cell(ij)` takes as input a pair `ij` of coordinates.  If the set of possible digits `self.m[i][j]` for cell i,j contains more than one digit, then no propagation is done.  If the set contains a single digit `x`, then we: \n",
    "\n",
    "* Remove `x` from the sets of all other cells on the same row, column, and 3x3 block. \n",
    "* Collect all the newly singleton cells that are formed, due to the digit `x` being removed, and we return them as a set. \n",
    "\n",
    "We give you an implementation that takes care of removing `x` from the same row, and we ask you to complete the implementation to take care of the column and 3x3 block as well."
   ]
  },
  {
   "cell_type": "code",
   "execution_count": 8,
   "metadata": {
    "deletable": false,
    "nbgrader": {
     "checksum": "89a994130b5fae044222a03276ecfb0f",
     "grade": false,
     "grade_id": "cell-cb8846ecfc06e4a8",
     "locked": false,
     "schema_version": 1,
     "solution": true
    }
   },
   "outputs": [],
   "source": [
    "### Exercise: define cell propagation\n",
    "\n",
    "def sudoku_propagate_cell(self, ij):\n",
    "    \"\"\"Propagates the singleton value at cell (i, j), returning the list\n",
    "    of newly-singleton cells.\"\"\"\n",
    "    i, j = ij\n",
    "    if len(self.m[i][j]) > 1:\n",
    "        # Nothing to propagate from cell (i,j).\n",
    "        return set()\n",
    "    # We keep track of the newly-singleton cells.\n",
    "    newly_singleton = set()\n",
    "    x = getel(self.m[i][j]) # Value at (i, j).\n",
    "    # Same row.\n",
    "    for jj in range(9):\n",
    "        if jj != j: # Do not propagate to the element itself.\n",
    "            newly_singleton.update(self.ruleout(i, jj, x))\n",
    "    # Same column.\n",
    "    for ii in range(9):\n",
    "        if ii != i: # Do not propagate to the element itself.\n",
    "            newly_singleton.update(self.ruleout(ii, j, x))\n",
    "    ### YOUR CODE HERE\n",
    "    i_s = i // 3 * 3\n",
    "    i_e = 3 + i_s\n",
    "    j_s = j // 3 * 3\n",
    "    j_e = 3 + j_s\n",
    "    # Same block of 3x3 cells.\n",
    "    ### YOUR CODE HERE\n",
    "    for a in range(i_s, i_e):\n",
    "        for b in range(j_s, j_e):\n",
    "            if (a, b) != (i, j):\n",
    "                newly_singleton.update(self.ruleout(a, b, x))\n",
    "    # Returns the list of newly-singleton cells.\n",
    "    return newly_singleton\n",
    "\n",
    "Sudoku.propagate_cell = sudoku_propagate_cell\n"
   ]
  },
  {
   "cell_type": "code",
   "execution_count": 9,
   "metadata": {
    "deletable": false,
    "nbgrader": {
     "checksum": "c0d7690a37fd21b20c1aa01ad86bd2ee",
     "grade": false,
     "grade_id": "cell-aaf8944cfc81c6dd",
     "locked": false,
     "schema_version": 1,
     "solution": true
    }
   },
   "outputs": [],
   "source": [
    "# Here you can write your own tests if you like. \n",
    "\n",
    "### YOUR CODE HERE"
   ]
  },
  {
   "cell_type": "code",
   "execution_count": 10,
   "metadata": {
    "deletable": false,
    "editable": false,
    "nbgrader": {
     "checksum": "08d97248ba30ada7dac913b59c69d3d2",
     "grade": true,
     "grade_id": "cell-518cff90ecab53c2",
     "locked": true,
     "points": 5,
     "schema_version": 1,
     "solution": false
    }
   },
   "outputs": [
    {
     "name": "stdout",
     "output_type": "stream",
     "text": [
      "+-----------------------------+-----------------------------+-----------------------------+\n",
      "|____5____ __3______ _2_______|_____6___ ______7__ _______8_|________9 12_4_____ _2_______|\n",
      "|_____6___ ______7__ 12_4__7__|123______ ________9 ____5____|__3______ 12_4_____ _______8_|\n",
      "|12_______ ________9 _______8_|__3______ ___4_____ 12_______|____5____ _____6___ ______7__|\n",
      "+-----------------------------+-----------------------------+-----------------------------+\n",
      "|_______8_ ____5____ ________9|1_____7_9 _____6___ 1__4__7_9|___4_____ _2_______ __3______|\n",
      "|___4_____ _2_______ _____6___|_______8_ ____5____ __3______|______7__ ________9 1________|\n",
      "|______7__ 1________ __3______|________9 _2_______ ___4_____|_______8_ ____5____ _____6___|\n",
      "+-----------------------------+-----------------------------+-----------------------------+\n",
      "|1_______9 _____6___ 1___5_7_9|____5_7_9 __3______ ______7_9|_2_______ _______8_ ___4_____|\n",
      "|_2______9 _______8_ _2____7_9|___4_____ 1________ _2____7_9|_____6___ __3______ ____5____|\n",
      "|__3______ ___4_____ _2345____|_2__56___ _______8_ _____6___|1________ ______7__ ________9|\n",
      "+-----------------------------+-----------------------------+-----------------------------+\n",
      "Good! It was unsolvable.\n",
      "+-----------------------------+-----------------------------+-----------------------------+\n",
      "|____5____ __3______ _2_______|_____6___ ______7__ _______8_|________9 12_4_____ _23______|\n",
      "|_____6___ ______7__ 12_4__7__|123______ ________9 ____5____|__3______ 12_4_____ _______8_|\n",
      "|12_______ ________9 _______8_|__3______ ___4_____ 12_______|____5____ _____6___ ______7__|\n",
      "+-----------------------------+-----------------------------+-----------------------------+\n",
      "|_______8_ ____5____ ________9|1_____7_9 _____6___ 1__4__7_9|___4_____ _2_______ __3______|\n",
      "|___4_____ _2_______ _____6___|_______8_ ____5____ __3______|______7__ ________9 1________|\n",
      "|______7__ 1________ __3______|________9 _2_______ ___4_____|_______8_ ____5____ _____6___|\n",
      "+-----------------------------+-----------------------------+-----------------------------+\n",
      "|1_______9 _____6___ 1___5_7_9|____5_7_9 __3______ ______7_9|_2_______ _______8_ ___4_____|\n",
      "|_2______9 _______8_ _2____7_9|___4_____ 1________ _2____7_9|_____6___ __3______ ____5____|\n",
      "|__3______ ___4_____ _2345____|_2__56___ _______8_ _____6___|1________ ______7__ ________9|\n",
      "+-----------------------------+-----------------------------+-----------------------------+\n"
     ]
    }
   ],
   "source": [
    "### 5 points: Tests for cell propagation\n",
    "\n",
    "tsd = Sudoku.from_string('[[[5], [3], [2], [6], [7], [8], [9], [1, 2, 4], [2]], [[6], [7], [1, 2, 4, 7], [1, 2, 3], [9], [5], [3], [1, 2, 4], [8]], [[1, 2], [9], [8], [3], [4], [1, 2], [5], [6], [7]], [[8], [5], [9], [1, 9, 7], [6], [1, 4, 9, 7], [4], [2], [3]], [[4], [2], [6], [8], [5], [3], [7], [9], [1]], [[7], [1], [3], [9], [2], [4], [8], [5], [6]], [[1, 9], [6], [1, 5, 9, 7], [9, 5, 7], [3], [9, 7], [2], [8], [4]], [[9, 2], [8], [9, 2, 7], [4], [1], [9, 2, 7], [6], [3], [5]], [[3], [4], [2, 3, 4, 5], [2, 5, 6], [8], [6], [1], [7], [9]]]')\n",
    "tsd.show(details=True)\n",
    "try:\n",
    "    tsd.propagate_cell((0, 2))\n",
    "except Unsolvable:\n",
    "    print(\"Good! It was unsolvable.\")\n",
    "else:\n",
    "    raise Exception(\"Hey, it was unsolvable\")\n",
    "\n",
    "tsd = Sudoku.from_string('[[[5], [3], [2], [6], [7], [8], [9], [1, 2, 4], [2, 3]], [[6], [7], [1, 2, 4, 7], [1, 2, 3], [9], [5], [3], [1, 2, 4], [8]], [[1, 2], [9], [8], [3], [4], [1, 2], [5], [6], [7]], [[8], [5], [9], [1, 9, 7], [6], [1, 4, 9, 7], [4], [2], [3]], [[4], [2], [6], [8], [5], [3], [7], [9], [1]], [[7], [1], [3], [9], [2], [4], [8], [5], [6]], [[1, 9], [6], [1, 5, 9, 7], [9, 5, 7], [3], [9, 7], [2], [8], [4]], [[9, 2], [8], [9, 2, 7], [4], [1], [9, 2, 7], [6], [3], [5]], [[3], [4], [2, 3, 4, 5], [2, 5, 6], [8], [6], [1], [7], [9]]]')\n",
    "tsd.show(details=True)\n",
    "assert_equal(tsd.propagate_cell((0, 2)), {(0, 8), (2, 0)})"
   ]
  },
  {
   "cell_type": "code",
   "execution_count": 11,
   "metadata": {
    "deletable": false,
    "editable": false,
    "nbgrader": {
     "checksum": "3edcaeaffb8a0bf1d2798a770d939e02",
     "grade": true,
     "grade_id": "cell-1a22bbf7ecef79df",
     "locked": true,
     "points": 5,
     "schema_version": 1,
     "solution": false
    }
   },
   "outputs": [],
   "source": [
    "### 5 points: hidden tests for cell propagation.\n"
   ]
  },
  {
   "cell_type": "markdown",
   "metadata": {
    "deletable": false,
    "editable": false,
    "nbgrader": {
     "checksum": "e5ed2a3a7c5ee13c35949e28b4549ce4",
     "grade": false,
     "grade_id": "cell-6bdb89884ff9de73",
     "locked": true,
     "schema_version": 1,
     "solution": false
    }
   },
   "source": [
    "### Propagating all cells, once\n",
    "\n",
    "The simplest thing we can do is propagate each cell, once. "
   ]
  },
  {
   "cell_type": "code",
   "execution_count": 12,
   "metadata": {
    "deletable": false,
    "editable": false,
    "nbgrader": {
     "checksum": "cf75628fec88e4a7eb1336f87733579d",
     "grade": false,
     "grade_id": "cell-f01c09cb45f93a07",
     "locked": true,
     "schema_version": 1,
     "solution": false
    }
   },
   "outputs": [],
   "source": [
    "def sudoku_propagate_all_cells_once(self):\n",
    "    \"\"\"This function propagates the constraints from all singletons.\"\"\"\n",
    "    for i in range(9):\n",
    "        for j in range(9):\n",
    "            self.propagate_cell((i, j))\n",
    "\n",
    "Sudoku.propagate_all_cells_once = sudoku_propagate_all_cells_once\n"
   ]
  },
  {
   "cell_type": "code",
   "execution_count": 13,
   "metadata": {
    "deletable": false,
    "editable": false,
    "nbgrader": {
     "checksum": "ea85d958be7c22389daa6d8b5319089e",
     "grade": false,
     "grade_id": "cell-544f2797149c7f48",
     "locked": true,
     "schema_version": 1,
     "solution": false
    }
   },
   "outputs": [
    {
     "name": "stdout",
     "output_type": "stream",
     "text": [
      "+---+---+---+\n",
      "|53.|.7.|...|\n",
      "|6..|195|...|\n",
      "|.98|...|.6.|\n",
      "+---+---+---+\n",
      "|8..|.6.|..3|\n",
      "|4..|8.3|..1|\n",
      "|7..|.2.|..6|\n",
      "+---+---+---+\n",
      "|.6.|...|28.|\n",
      "|...|419|..5|\n",
      "|...|.8.|.79|\n",
      "+---+---+---+\n",
      "+---+---+---+\n",
      "|53.|.7.|...|\n",
      "|6..|195|...|\n",
      "|.98|...|.6.|\n",
      "+---+---+---+\n",
      "|8..|.6.|..3|\n",
      "|4..|853|..1|\n",
      "|7..|.2.|..6|\n",
      "+---+---+---+\n",
      "|.6.|..7|284|\n",
      "|...|419|.35|\n",
      "|...|.8.|.79|\n",
      "+---+---+---+\n",
      "+-----------------------------+-----------------------------+-----------------------------+\n",
      "|____5____ __3______ 12_4_____|_2___6___ ______7__ _2_4_6_8_|1__4___89 12_4____9 _2_4___8_|\n",
      "|_____6___ _2_4__7__ _2_4__7__|1________ ________9 ____5____|__34__78_ _234_____ _2_4__78_|\n",
      "|12_______ ________9 _______8_|_23______ __34_____ _2_4_____|1_345_7__ _____6___ _2_4__7__|\n",
      "+-----------------------------+-----------------------------+-----------------------------+\n",
      "|_______8_ 12__5____ 12__5___9|____5_7_9 _____6___ 1__4__7__|___45_7_9 _2_45___9 __3______|\n",
      "|___4_____ _2__5____ _2__56__9|_______8_ ____5____ __3______|____5_7_9 _2__5___9 1________|\n",
      "|______7__ 1___5____ 1_3_5___9|____5___9 _2_______ 1__4_____|___45__89 ___45___9 _____6___|\n",
      "+-----------------------------+-----------------------------+-----------------------------+\n",
      "|1_3_____9 _____6___ 1_345_7_9|__3_5_7__ __3_5____ ______7__|_2_______ _______8_ ___4_____|\n",
      "|_23______ _2____78_ _23___7__|___4_____ 1________ ________9|__3__6___ __3______ ____5____|\n",
      "|123______ 12_45____ 12345____|_23_56___ _______8_ _2___6___|1_34_6___ ______7__ ________9|\n",
      "+-----------------------------+-----------------------------+-----------------------------+\n"
     ]
    }
   ],
   "source": [
    "sd = Sudoku([\n",
    "    '53__7____',\n",
    "    '6__195___',\n",
    "    '_98____6_',\n",
    "    '8___6___3',\n",
    "    '4__8_3__1',\n",
    "    '7___2___6',\n",
    "    '_6____28_',\n",
    "    '___419__5',\n",
    "    '____8__79'\n",
    "])\n",
    "sd.show()\n",
    "sd.propagate_all_cells_once()\n",
    "sd.show()\n",
    "sd.show(details=True)\n"
   ]
  },
  {
   "cell_type": "markdown",
   "metadata": {
    "deletable": false,
    "editable": false,
    "nbgrader": {
     "checksum": "90226832dc5a43fd411a68ac549b2bae",
     "grade": false,
     "grade_id": "cell-29a0e911623d5ef4",
     "locked": true,
     "schema_version": 1,
     "solution": false
    }
   },
   "source": [
    "## Question 2: Propagating all cells, repeatedly\n",
    "\n",
    "This is a good beginning, but it's not quite enough. \n",
    "As we propagate the constraints, cells that did not use to be singletons may have become singletons.  For eample, in the above example, the center cell has become known to be a 5: we need to make sure that also these singletons are propagated. \n",
    "\n",
    "This is why we have written propagate_cell so that it returns the set of newly-singleton cells.  \n",
    "We need now to write a method `full_propagation` that works as follows. \n",
    "\n",
    "* At the beginning starts with a set of `to_propagate` cells (if it is not specified, then we just take it to consist of all singleton cells).  \n",
    "* Repeatedly: \n",
    "  * It picks a cell from the `to_propagate` set, \n",
    "  * it propagates from it, \n",
    "  * and it adds any newly singleton cell to `to_propagate`.  \n",
    "* Once there are no more cells to be propagated, the method returns. \n",
    "\n",
    "If this sounds similar to graph reachability, it is ... because it is!  It is once again the algorithmic pattern of keeping a list of work to be done, then iteratively picking an element from the list, doing it, possibly updating the list of work to be done with new work that has to be done as a result of what we just did, and continuing in this fashion until there is nothing left to do. \n",
    "We will let you write this function.  The portion you have to write can be done in three lines of code."
   ]
  },
  {
   "cell_type": "code",
   "execution_count": 14,
   "metadata": {
    "deletable": false,
    "nbgrader": {
     "checksum": "afae283dbab03d921c8503b9d6ab1aac",
     "grade": false,
     "grade_id": "cell-28cd5047394e6887",
     "locked": false,
     "schema_version": 1,
     "solution": true
    }
   },
   "outputs": [],
   "source": [
    "### Exercise: define full propagation\n",
    "\n",
    "def sudoku_full_propagation(self, to_propagate=None):\n",
    "    \"\"\"Iteratively propagates from all singleton cells, and from all\n",
    "    newly discovered singleton cells, until no more propagation is possible.\n",
    "    @param to_propagate: sets of cells from where to propagate.  If None, propagates\n",
    "        from all singleton cells. \n",
    "    @return: nothing.\n",
    "    \"\"\"\n",
    "    if to_propagate is None:\n",
    "        to_propagate = {(i, j) for i in range(9) for j in range(9)}\n",
    "    # This code is the (A) code; will be referenced later.\n",
    "    ### YOUR CODE HERE\n",
    "    while to_propagate:\n",
    "        cell = to_propagate.pop()\n",
    "        to_propagate.update(self.propagate_cell(cell))\n",
    "Sudoku.full_propagation = sudoku_full_propagation\n"
   ]
  },
  {
   "cell_type": "code",
   "execution_count": 15,
   "metadata": {
    "deletable": false,
    "nbgrader": {
     "checksum": "ca94845925c669f3f1d498febbae1947",
     "grade": false,
     "grade_id": "cell-1c1f40d813c5b7c6",
     "locked": false,
     "schema_version": 1,
     "solution": true
    }
   },
   "outputs": [],
   "source": [
    "# Here you can write your own tests if you like. \n",
    "\n",
    "### YOUR CODE HERE"
   ]
  },
  {
   "cell_type": "code",
   "execution_count": 16,
   "metadata": {
    "deletable": false,
    "editable": false,
    "nbgrader": {
     "checksum": "3c8d21967b36b512690f8595f74b7f3a",
     "grade": true,
     "grade_id": "cell-743ea60f3db12c64",
     "locked": true,
     "points": 5,
     "schema_version": 1,
     "solution": false
    }
   },
   "outputs": [
    {
     "name": "stdout",
     "output_type": "stream",
     "text": [
      "+-----------------------------+-----------------------------+-----------------------------+\n",
      "|____5____ __3______ ___4_____|_____6___ ______7__ _______8_|________9 1________ _2_______|\n",
      "|_____6___ ______7__ _2_______|1________ ________9 ____5____|__3______ ___4_____ _______8_|\n",
      "|1________ ________9 _______8_|__3______ ___4_____ _2_______|____5____ _____6___ ______7__|\n",
      "+-----------------------------+-----------------------------+-----------------------------+\n",
      "|_______8_ ____5____ ________9|______7__ _____6___ 1________|___4_____ _2_______ __3______|\n",
      "|___4_____ _2_______ _____6___|_______8_ ____5____ __3______|______7__ ________9 1________|\n",
      "|______7__ 1________ __3______|________9 _2_______ ___4_____|_______8_ ____5____ _____6___|\n",
      "+-----------------------------+-----------------------------+-----------------------------+\n",
      "|________9 _____6___ 1________|____5____ __3______ ______7__|_2_______ _______8_ ___4_____|\n",
      "|_2_______ _______8_ ______7__|___4_____ 1________ ________9|_____6___ __3______ ____5____|\n",
      "|__3______ ___4_____ ____5____|_2_______ _______8_ _____6___|1________ ______7__ ________9|\n",
      "+-----------------------------+-----------------------------+-----------------------------+\n"
     ]
    }
   ],
   "source": [
    "### 5 points: Tests for full propagation\n",
    "\n",
    "sd = Sudoku([\n",
    "    '53__7____',\n",
    "    '6__195___',\n",
    "    '_98____6_',\n",
    "    '8___6___3',\n",
    "    '4__8_3__1',\n",
    "    '7___2___6',\n",
    "    '_6____28_',\n",
    "    '___419__5',\n",
    "    '____8__79'\n",
    "])\n",
    "sd.full_propagation()\n",
    "sd.show(details=True)\n",
    "sdd = Sudoku.from_string('[[[5], [3], [4], [6], [7], [8], [9], [1], [2]], [[6], [7], [2], [1], [9], [5], [3], [4], [8]], [[1], [9], [8], [3], [4], [2], [5], [6], [7]], [[8], [5], [9], [7], [6], [1], [4], [2], [3]], [[4], [2], [6], [8], [5], [3], [7], [9], [1]], [[7], [1], [3], [9], [2], [4], [8], [5], [6]], [[9], [6], [1], [5], [3], [7], [2], [8], [4]], [[2], [8], [7], [4], [1], [9], [6], [3], [5]], [[3], [4], [5], [2], [8], [6], [1], [7], [9]]]')\n",
    "assert_equal(sd, sdd)\n",
    "\n",
    "\n"
   ]
  },
  {
   "cell_type": "code",
   "execution_count": 17,
   "metadata": {
    "deletable": false,
    "editable": false,
    "nbgrader": {
     "checksum": "410a763883d3844bd3c4722a4300db43",
     "grade": true,
     "grade_id": "cell-46302dc2fad68462",
     "locked": true,
     "points": 5,
     "schema_version": 1,
     "solution": false
    }
   },
   "outputs": [],
   "source": [
    "### 5 points: Hidden tests for full propagation\n"
   ]
  },
  {
   "cell_type": "markdown",
   "metadata": {
    "deletable": false,
    "editable": false,
    "nbgrader": {
     "checksum": "c13e9dce0c0539a0e60e0c4392c36835",
     "grade": false,
     "grade_id": "cell-d2f32439294eff83",
     "locked": true,
     "schema_version": 1,
     "solution": false
    }
   },
   "source": [
    "We solved our example problem!  Constraint propagation, iterated, led us to the solution!"
   ]
  },
  {
   "cell_type": "markdown",
   "metadata": {
    "deletable": false,
    "editable": false,
    "nbgrader": {
     "checksum": "f32e1d44d901e052886bccd11640735c",
     "grade": false,
     "grade_id": "cell-4f554f6df1d012c1",
     "locked": true,
     "schema_version": 1,
     "solution": false
    }
   },
   "source": [
    "## Searching for a solution\n",
    "\n",
    "Many Sudoku problems can be solved entirely by constraint propagation.  \n",
    "They are designed to be so: they are designed to be relatively easy, so that humans can solve them while on a lounge chair at the beach -- I know this from personal experience! \n",
    "\n",
    "But it is by no means necessary that this is true. \n",
    "If we create more complex problems, or less determined problems, constraint propagation no longer suffices. \n",
    "As a simple example, let's just blank some cells in the previous problem, and run full propagation again:"
   ]
  },
  {
   "cell_type": "code",
   "execution_count": 18,
   "metadata": {
    "deletable": false,
    "editable": false,
    "nbgrader": {
     "checksum": "f8080f8293dd697aac0827f751fa4646",
     "grade": false,
     "grade_id": "cell-1c464a49a54fa9be",
     "locked": true,
     "schema_version": 1,
     "solution": false
    }
   },
   "outputs": [
    {
     "name": "stdout",
     "output_type": "stream",
     "text": [
      "+---+---+---+\n",
      "|53.|.7.|...|\n",
      "|6..|.95|...|\n",
      "|.98|...|.6.|\n",
      "+---+---+---+\n",
      "|8..|.6.|..3|\n",
      "|4..|8.3|..1|\n",
      "|7..|.2.|..6|\n",
      "+---+---+---+\n",
      "|.6.|...|28.|\n",
      "|...|41.|..5|\n",
      "|...|.8.|.79|\n",
      "+---+---+---+\n",
      "+-----------------------------+-----------------------------+-----------------------------+\n",
      "|____5____ __3______ 12_4_____|12___6___ ______7__ 12___6_8_|___4___89 12_4_____ _2_____8_|\n",
      "|_____6___ 1__4__7__ 12_4__7__|123______ ________9 ____5____|__34___8_ 12_4_____ _2____78_|\n",
      "|12_______ ________9 _______8_|123______ ___4_____ 12_______|__3_5____ _____6___ _2____7__|\n",
      "+-----------------------------+-----------------------------+-----------------------------+\n",
      "|_______8_ 1___5____ 1___5___9|1_____7_9 _____6___ 1__4__7_9|___45____ _2_45____ __3______|\n",
      "|___4_____ _2_______ _____6___|_______8_ ____5____ __3______|______7__ ________9 1________|\n",
      "|______7__ 1___5____ 1_3_5___9|1_______9 _2_______ 1__4____9|___45__8_ ___45____ _____6___|\n",
      "+-----------------------------+-----------------------------+-----------------------------+\n",
      "|1_______9 _____6___ 1___5_7_9|____5_7_9 __3______ ______7_9|_2_______ _______8_ ___4_____|\n",
      "|_2______9 ______78_ _2____7_9|___4_____ 1________ _2____7_9|_____6___ __3______ ____5____|\n",
      "|_23______ ___45____ _2345____|_2__56___ _______8_ _2___6___|1________ ______7__ ________9|\n",
      "+-----------------------------+-----------------------------+-----------------------------+\n"
     ]
    }
   ],
   "source": [
    "sd = Sudoku([\n",
    "    '53__7____',\n",
    "    '6___95___',\n",
    "    '_98____6_',\n",
    "    '8___6___3',\n",
    "    '4__8_3__1',\n",
    "    '7___2___6',\n",
    "    '_6____28_',\n",
    "    '___41___5',\n",
    "    '____8__79'\n",
    "])\n",
    "sd.show()\n",
    "sd.full_propagation()\n",
    "sd.show(details=True)\n"
   ]
  },
  {
   "cell_type": "markdown",
   "metadata": {
    "deletable": false,
    "editable": false,
    "nbgrader": {
     "checksum": "88d8da4bf5c1484fbe6de4e342e4a749",
     "grade": false,
     "grade_id": "cell-b8ce2acb10ed8713",
     "locked": true,
     "schema_version": 1,
     "solution": false
    }
   },
   "source": [
    "As we see, there are still undetermined values.  We can peek into the detailed state of the solution:\n"
   ]
  },
  {
   "cell_type": "code",
   "execution_count": 19,
   "metadata": {
    "deletable": false,
    "editable": false,
    "nbgrader": {
     "checksum": "8f07c61cc249f249ab2824772d0f0c55",
     "grade": false,
     "grade_id": "cell-7fbd34dc04f6fc3b",
     "locked": true,
     "schema_version": 1,
     "solution": false
    }
   },
   "outputs": [
    {
     "name": "stdout",
     "output_type": "stream",
     "text": [
      "+-----------------------------+-----------------------------+-----------------------------+\n",
      "|____5____ __3______ 12_4_____|12___6___ ______7__ 12___6_8_|___4___89 12_4_____ _2_____8_|\n",
      "|_____6___ 1__4__7__ 12_4__7__|123______ ________9 ____5____|__34___8_ 12_4_____ _2____78_|\n",
      "|12_______ ________9 _______8_|123______ ___4_____ 12_______|__3_5____ _____6___ _2____7__|\n",
      "+-----------------------------+-----------------------------+-----------------------------+\n",
      "|_______8_ 1___5____ 1___5___9|1_____7_9 _____6___ 1__4__7_9|___45____ _2_45____ __3______|\n",
      "|___4_____ _2_______ _____6___|_______8_ ____5____ __3______|______7__ ________9 1________|\n",
      "|______7__ 1___5____ 1_3_5___9|1_______9 _2_______ 1__4____9|___45__8_ ___45____ _____6___|\n",
      "+-----------------------------+-----------------------------+-----------------------------+\n",
      "|1_______9 _____6___ 1___5_7_9|____5_7_9 __3______ ______7_9|_2_______ _______8_ ___4_____|\n",
      "|_2______9 ______78_ _2____7_9|___4_____ 1________ _2____7_9|_____6___ __3______ ____5____|\n",
      "|_23______ ___45____ _2345____|_2__56___ _______8_ _2___6___|1________ ______7__ ________9|\n",
      "+-----------------------------+-----------------------------+-----------------------------+\n"
     ]
    }
   ],
   "source": [
    "sd.show(details=True)\n",
    "# Let's save this Sudoku for later.\n",
    "sd_partially_solved = Sudoku(sd)\n"
   ]
  },
  {
   "cell_type": "markdown",
   "metadata": {
    "deletable": false,
    "editable": false,
    "nbgrader": {
     "checksum": "d1d2768a8211864a55aac41d6126f7f2",
     "grade": false,
     "grade_id": "cell-6e73a9f7f41e1ec3",
     "locked": true,
     "schema_version": 1,
     "solution": false
    }
   },
   "source": [
    "What can we do when constraint propagation fails? \n",
    "The only thing we can do is make a guess.  We can take one of the cells whose set contains multiple digits, such as cell (2, 0) (starting counting at 0, as in Python), which contains $\\{1, 2\\}$, and try one of the values, for instance $1$.  \n",
    "We can see whether assigning to the cell the singleton set $\\{1\\}$ leads to the solution. \n",
    "If not, we try the value $\\{2\\}$ instead. \n",
    "If the Sudoku problem has a solution, one of these two values must work. \n",
    "\n",
    "Classically, this way of searching for a solution has been called search with _backtracking._\n",
    "The backtracking is because we can choose a value, say $1$, and then do a lot of work, propagating the new constraint, making further guesses, and so on and so forth.  If that does not pan out, we must \"backtrack\" and return to our guess, choosing (in our example) $2$ instead. \n",
    "\n",
    "Let us implement search with backtracking.  What we need to do is something like this: \n",
    "\n",
    "search():\n",
    "1. propagate constraints.\n",
    "1. if solved, hoorrayy!\n",
    "1. if impossible, raise Unsolvable()\n",
    "1. if not fully solved, pick a cell with multiple digits possible, and iteratively:\n",
    " * Assign one of the possible values to the cell. \n",
    " * Call search() with that value for the cell.\n",
    " * If Unsolvable is raised by the search() call, move on to the next value.\n",
    " * If all values returned Unsolvable (if we tried them all), then we raise Unsolvable.\n",
    "\n",
    "So we see that search() is a recursive function.  \n",
    "From the pseudo-code above, we see that it might be better to pick a cell with few values possible at step 4 above, so as to make our chances of success as good as possible.  For instance, it is much better to choose a cell with set $\\{1, 2\\}$ than one with set $\\{1, 3, 5, 6, 7, 9\\}$, as the probability of success is $1/2$ in the first case and $1/6$ in the second case. \n",
    "Of course, it may be possible to come up with much better heuristics to guide our search, but this will have to do so far. \n",
    "\n",
    "One fine point with the search above is the following.  So far, an object has a self.m matrix, which contains the status of the Sudoku solution. \n",
    "We cannot simply pass self.m recursively to search(), because in the course of the search and constraint propagation, self.m will be modified, and there is no easy way to keep track of these modifications. \n",
    "Rather, we will write search() as a method, and when we call it, we will:\n",
    "\n",
    "* First, create a copy of the current object via the Sudoku constructor, so we have a copy we can modify. \n",
    "* Second, we assign one of the values to the cell, as above; \n",
    "* Third, we will call the search() method of that object. \n",
    "\n",
    "Furthermore, when a solution is found, as in the hoorraay! above, we need to somehow return the solution. \n",
    "There are two ways of doing this: via standard returns, or by raising an exception. \n"
   ]
  },
  {
   "cell_type": "code",
   "execution_count": 20,
   "metadata": {
    "deletable": false,
    "editable": false,
    "nbgrader": {
     "checksum": "ffc3a6fdee20a90c6f8c6995a4000f9a",
     "grade": false,
     "grade_id": "cell-dc3ac1138a7ebe73",
     "locked": true,
     "schema_version": 1,
     "solution": false
    }
   },
   "outputs": [],
   "source": [
    "def sudoku_done(self):\n",
    "    \"\"\"Checks whether an instance of Sudoku is solved.\"\"\"\n",
    "    for i in range(9):\n",
    "        for j in range(9):\n",
    "            if len(self.m[i][j]) > 1:\n",
    "                return False\n",
    "    return True\n",
    "\n",
    "Sudoku.done = sudoku_done\n",
    "\n",
    "\n",
    "def sudoku_search(self, new_cell=None):\n",
    "    \"\"\"Tries to solve a Sudoku instance.\"\"\"\n",
    "    to_propagate = None if new_cell is None else {new_cell}\n",
    "    self.full_propagation(to_propagate=to_propagate)\n",
    "    if self.done():\n",
    "        return self # We are a solution\n",
    "    # We need to search.  Picks a cell with as few candidates as possible.\n",
    "    candidates = [(len(self.m[i][j]), i, j)\n",
    "                   for i in range(9) for j in range(9) if len(self.m[i][j]) > 1]\n",
    "    _, i, j = min(candidates)\n",
    "    values = self.m[i][j]\n",
    "    # values contains the list of values we need to try for cell i, j.\n",
    "    # print(\"Searching values\", values, \"for cell\", i, j)\n",
    "    for x in values:\n",
    "        # print(\"Trying value\", x)\n",
    "        sd = Sudoku(self)\n",
    "        sd.m[i][j] = {x}\n",
    "        try:\n",
    "            # If we find a solution, we return it.\n",
    "            return sd.search(new_cell=(i, j))\n",
    "        except Unsolvable:\n",
    "            # Go to next value.\n",
    "            pass\n",
    "    # All values have been tried, apparently with no success.\n",
    "    raise Unsolvable()\n",
    "\n",
    "Sudoku.search = sudoku_search\n",
    "\n",
    "\n",
    "def sudoku_solve(self, do_print=True):\n",
    "    \"\"\"Wrapper function, calls self and shows the solution if any.\"\"\"\n",
    "    try:\n",
    "        r = self.search()\n",
    "        if do_print:\n",
    "            print(\"We found a solution:\")\n",
    "            r.show()\n",
    "    except Unsolvable:\n",
    "        if do_print:\n",
    "            print(\"The problem has no solutions\")\n",
    "\n",
    "Sudoku.solve = sudoku_solve\n"
   ]
  },
  {
   "cell_type": "markdown",
   "metadata": {
    "deletable": false,
    "editable": false,
    "nbgrader": {
     "checksum": "9351ba119a2f3cf1a8071371bd095f6e",
     "grade": false,
     "grade_id": "cell-be62d73741d83d3f",
     "locked": true,
     "schema_version": 1,
     "solution": false
    }
   },
   "source": [
    "Let us try this on our previous Sudoku problem that was not solvable via constraint propagation alone."
   ]
  },
  {
   "cell_type": "code",
   "execution_count": 21,
   "metadata": {
    "deletable": false,
    "editable": false,
    "nbgrader": {
     "checksum": "1340ea18a5b422d4d4ead9d3ea40fc84",
     "grade": false,
     "grade_id": "cell-7c95749068623e30",
     "locked": true,
     "schema_version": 1,
     "solution": false
    }
   },
   "outputs": [
    {
     "name": "stdout",
     "output_type": "stream",
     "text": [
      "We found a solution:\n",
      "+---+---+---+\n",
      "|531|678|942|\n",
      "|674|295|318|\n",
      "|298|341|567|\n",
      "+---+---+---+\n",
      "|859|167|423|\n",
      "|426|853|791|\n",
      "|713|924|856|\n",
      "+---+---+---+\n",
      "|165|739|284|\n",
      "|987|412|635|\n",
      "|342|586|179|\n",
      "+---+---+---+\n"
     ]
    }
   ],
   "source": [
    "sd = Sudoku([\n",
    "    '53__7____',\n",
    "    '6___95___',\n",
    "    '_98____6_',\n",
    "    '8___6___3',\n",
    "    '4__8_3__1',\n",
    "    '7___2___6',\n",
    "    '_6____28_',\n",
    "    '___41___5',\n",
    "    '____8__79'\n",
    "])\n",
    "sd.solve()\n"
   ]
  },
  {
   "cell_type": "markdown",
   "metadata": {
    "deletable": false,
    "editable": false,
    "nbgrader": {
     "checksum": "54e26fd3d76ba578da64a4906ebd3f4e",
     "grade": false,
     "grade_id": "cell-f9c27508bc89948b",
     "locked": true,
     "schema_version": 1,
     "solution": false
    }
   },
   "source": [
    "It works, search with constraint propagation solved the Sudoku puzzle!"
   ]
  },
  {
   "cell_type": "markdown",
   "metadata": {
    "deletable": false,
    "editable": false,
    "nbgrader": {
     "checksum": "dda96ccd35ab4a58fba0d83813db759b",
     "grade": false,
     "grade_id": "cell-305aace5d016910e",
     "locked": true,
     "schema_version": 1,
     "solution": false
    }
   },
   "source": [
    "## The choice - constraint propagation - recursion paradigm.\n",
    "\n",
    "We have learned a general strategy for solving difficult problems.  The strategy can be summarized thus: **choice - constraint propagation - recursion.** \n",
    "\n",
    "In the _choice_ step, we make one guess from a set of possible guesses.  If we want our search for a solution to be exhaustive, as in the above Sudoku example, we ensure that we try iteratively all choices from a set of choices chosen so that at least one of them must succeed.  In the above example, we know that at least one of the digit values must be the true one, hence our search is exhaustive.  In other cases, we can trade off exhaustiveness for efficiency, and we may try only a few choices, guided perhaps by an heuristic. \n",
    "\n",
    "The _constraint propagation_ step propagates the consequences of the choice to the problem.  Each choice thus gives rise to a new problem, which is a little bit simpler than the original one as some of the possible choices, that is, some of its complexity, has been removed.  In the Sudoku case, the new problem has less indetermination, as at least one more of its cells has a known digit in it. \n",
    "\n",
    "The problems resulting from _constraint propagation_, while simpler, may not be solved yet.  Hence, we _recur_, calling the solution procedure on them as well.  As these problems are simpler (they contain fewer choices), eventually the recursion must reach a point where no more choice is possible, and whether constraint propagation should yield a completely defined problem, one of which it is possible to say whether it is solvable or not with a trivial test.  This forms the base case for the recursion. \n",
    "\n",
    "This solution strategy applies very generally, to problems well beyond Sudoku."
   ]
  },
  {
   "cell_type": "markdown",
   "metadata": {
    "deletable": false,
    "editable": false,
    "nbgrader": {
     "checksum": "435cb7542b588035d988d1a5319a6458",
     "grade": false,
     "grade_id": "cell-4f07cfa36044eb1a",
     "locked": true,
     "schema_version": 1,
     "solution": false
    }
   },
   "source": [
    "## Solving some problems from example sites\n",
    "\n",
    "Let us see how long it takes us to solve examples found around the Web. \n",
    "We consider a few from [this site](https://dingo.sbs.arizona.edu/~sandiway/sudoku/examples.html).\n",
    "You should be able to complete all of these tests in a short amount of time. "
   ]
  },
  {
   "cell_type": "code",
   "execution_count": 22,
   "metadata": {
    "deletable": false,
    "editable": false,
    "nbgrader": {
     "checksum": "db12b648bbd224f7e6aad3c93024b659",
     "grade": false,
     "grade_id": "cell-b748a9d7b998ccb1",
     "locked": true,
     "schema_version": 1,
     "solution": false
    }
   },
   "outputs": [],
   "source": [
    "import time\n"
   ]
  },
  {
   "cell_type": "markdown",
   "metadata": {
    "deletable": false,
    "editable": false,
    "nbgrader": {
     "checksum": "60abbc6df0dd5ce2e624961a0bfd0b4c",
     "grade": false,
     "grade_id": "cell-81aecc7eb0dc272d",
     "locked": true,
     "schema_version": 1,
     "solution": false
    }
   },
   "source": [
    "### Daily Telegraph January 19th \"Diabolical\"\n",
    "\n"
   ]
  },
  {
   "cell_type": "code",
   "execution_count": 23,
   "metadata": {
    "deletable": false,
    "editable": false,
    "nbgrader": {
     "checksum": "4bb7812d3cbd83fdb608d6ccf2242cc3",
     "grade": true,
     "grade_id": "cell-f21c8884bfe258ea",
     "locked": true,
     "points": 5,
     "schema_version": 1,
     "solution": false
    }
   },
   "outputs": [
    {
     "name": "stdout",
     "output_type": "stream",
     "text": [
      "We found a solution:\n",
      "+---+---+---+\n",
      "|123|678|945|\n",
      "|584|239|761|\n",
      "|967|145|328|\n",
      "+---+---+---+\n",
      "|372|461|589|\n",
      "|691|583|274|\n",
      "|458|792|613|\n",
      "+---+---+---+\n",
      "|836|924|157|\n",
      "|219|857|436|\n",
      "|745|316|892|\n",
      "+---+---+---+\n",
      "Solved in 0.039998531341552734 seconds\n"
     ]
    }
   ],
   "source": [
    "# 5 points: You need to do this in less than 5. \n",
    "\n",
    "sd = Sudoku([\n",
    "    '_2_6_8___',\n",
    "    '58___97__',\n",
    "    '____4____',\n",
    "    '37____5__',\n",
    "    '6_______4',\n",
    "    '__8____13',\n",
    "    '____2____',\n",
    "    '__98___36',\n",
    "    '___3_6_9_'\n",
    "])\n",
    "t = time.time()\n",
    "sd.solve()\n",
    "elapsed = time.time() - t\n",
    "print(\"Solved in\", elapsed, \"seconds\")\n",
    "\n",
    "assert elapsed < 5"
   ]
  },
  {
   "cell_type": "markdown",
   "metadata": {
    "deletable": false,
    "editable": false,
    "nbgrader": {
     "checksum": "591d98201ab2c2a800a21ded9d565575",
     "grade": false,
     "grade_id": "cell-1a9ae785b525a858",
     "locked": true,
     "schema_version": 1,
     "solution": false
    }
   },
   "source": [
    "### Vegard Hanssen puzzle 2155141"
   ]
  },
  {
   "cell_type": "code",
   "execution_count": 24,
   "metadata": {
    "deletable": false,
    "editable": false,
    "nbgrader": {
     "checksum": "3a237387efbf3cb021c5d81d70328f26",
     "grade": true,
     "grade_id": "cell-de239964954e29c9",
     "locked": true,
     "points": 5,
     "schema_version": 1,
     "solution": false
    }
   },
   "outputs": [
    {
     "name": "stdout",
     "output_type": "stream",
     "text": [
      "We found a solution:\n",
      "+---+---+---+\n",
      "|581|672|439|\n",
      "|792|843|651|\n",
      "|364|591|782|\n",
      "+---+---+---+\n",
      "|438|957|216|\n",
      "|256|184|973|\n",
      "|179|326|845|\n",
      "+---+---+---+\n",
      "|845|219|367|\n",
      "|913|768|524|\n",
      "|627|435|198|\n",
      "+---+---+---+\n",
      "Solved in 0.08899760246276855 seconds\n"
     ]
    }
   ],
   "source": [
    "# 5 points: you need to do this in less than 5 seconds.\n",
    "\n",
    "sd = Sudoku([\n",
    "    '___6__4__',\n",
    "    '7____36__',\n",
    "    '____91_8_',\n",
    "    '_________',\n",
    "    '_5_18___3',\n",
    "    '___3_6_45',\n",
    "    '_4_2___6_',\n",
    "    '9_3______',\n",
    "    '_2____1__'\n",
    "])\n",
    "t = time.time()\n",
    "sd.solve()\n",
    "elapsed = time.time() - t\n",
    "print(\"Solved in\", elapsed, \"seconds\")\n",
    "assert elapsed < 5"
   ]
  },
  {
   "cell_type": "markdown",
   "metadata": {
    "deletable": false,
    "editable": false,
    "nbgrader": {
     "checksum": "2ad8445548c388f80ca5991713b9e2fd",
     "grade": false,
     "grade_id": "cell-e420fe240cceb545",
     "locked": true,
     "schema_version": 1,
     "solution": false
    }
   },
   "source": [
    "### A supposedly even harder one\n",
    "\n",
    "[source](http://www.sudokuwiki.org/Weekly_Sudoku.asp?puz=28)"
   ]
  },
  {
   "cell_type": "code",
   "execution_count": 25,
   "metadata": {
    "deletable": false,
    "editable": false,
    "nbgrader": {
     "checksum": "a89e6fc6376e0fe58fad502265dcd3f1",
     "grade": true,
     "grade_id": "cell-3c4e52eb6fd15e87",
     "locked": true,
     "points": 5,
     "schema_version": 1,
     "solution": false
    }
   },
   "outputs": [
    {
     "name": "stdout",
     "output_type": "stream",
     "text": [
      "We found a solution:\n",
      "+---+---+---+\n",
      "|625|178|943|\n",
      "|948|326|157|\n",
      "|371|945|862|\n",
      "+---+---+---+\n",
      "|257|619|384|\n",
      "|463|587|291|\n",
      "|189|432|576|\n",
      "+---+---+---+\n",
      "|792|863|415|\n",
      "|516|294|738|\n",
      "|834|751|629|\n",
      "+---+---+---+\n",
      "Solved in 0.8120038509368896 seconds\n"
     ]
    }
   ],
   "source": [
    "# 5 points: you need to do this in less than 10 seconds. \n",
    "\n",
    "sd = Sudoku([\n",
    "    '6____894_',\n",
    "    '9____61__',\n",
    "    '_7__4____',\n",
    "    '2__61____',\n",
    "    '______2__',\n",
    "    '_89__2___',\n",
    "    '____6___5',\n",
    "    '_______3_',\n",
    "    '8____16__'\n",
    "])\n",
    "t = time.time()\n",
    "sd.solve()\n",
    "elapsed = time.time() - t\n",
    "print(\"Solved in\", elapsed, \"seconds\")\n",
    "assert elapsed < 10"
   ]
  },
  {
   "cell_type": "code",
   "execution_count": null,
   "metadata": {},
   "outputs": [],
   "source": []
  },
  {
   "cell_type": "code",
   "execution_count": null,
   "metadata": {},
   "outputs": [],
   "source": []
  }
 ],
 "metadata": {
  "colab": {
   "collapsed_sections": [],
   "name": "Sudoku_test.ipynb",
   "provenance": []
  },
  "hide_input": false,
  "kernelspec": {
   "display_name": "Python 3",
   "language": "python",
   "name": "python3"
  },
  "language_info": {
   "codemirror_mode": {
    "name": "ipython",
    "version": 3
   },
   "file_extension": ".py",
   "mimetype": "text/x-python",
   "name": "python",
   "nbconvert_exporter": "python",
   "pygments_lexer": "ipython3",
   "version": "3.7.0"
  },
  "test_info": {
   "id": "7597a14dd42bfcab37d5914f4edcb72d8e1e2fba"
  }
 },
 "nbformat": 4,
 "nbformat_minor": 1
}
